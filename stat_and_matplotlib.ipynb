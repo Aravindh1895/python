{
  "nbformat": 4,
  "nbformat_minor": 0,
  "metadata": {
    "colab": {
      "provenance": [],
      "authorship_tag": "ABX9TyNVDC9prL/obYntJO2qqMgF",
      "include_colab_link": true
    },
    "kernelspec": {
      "name": "python3",
      "display_name": "Python 3"
    },
    "language_info": {
      "name": "python"
    }
  },
  "cells": [
    {
      "cell_type": "markdown",
      "metadata": {
        "id": "view-in-github",
        "colab_type": "text"
      },
      "source": [
        "<a href=\"https://colab.research.google.com/github/Aravindh1895/python/blob/main/stat_and_matplotlib.ipynb\" target=\"_parent\"><img src=\"https://colab.research.google.com/assets/colab-badge.svg\" alt=\"Open In Colab\"/></a>"
      ]
    },
    {
      "cell_type": "code",
      "execution_count": null,
      "metadata": {
        "colab": {
          "base_uri": "https://localhost:8080/"
        },
        "id": "jL5epwVH5nPG",
        "outputId": "e82f965a-722a-47f3-f45b-3f0183ed54f3"
      },
      "outputs": [
        {
          "output_type": "stream",
          "name": "stdout",
          "text": [
            "Looking in indexes: https://pypi.org/simple, https://us-python.pkg.dev/colab-wheels/public/simple/\n",
            "Collecting snscrape\n",
            "  Downloading snscrape-0.5.0.20230113-py3-none-any.whl (69 kB)\n",
            "\u001b[2K     \u001b[90m━━━━━━━━━━━━━━━━━━━━━━━━━━━━━━━━━━━━━━━━\u001b[0m \u001b[32m69.2/69.2 KB\u001b[0m \u001b[31m2.3 MB/s\u001b[0m eta \u001b[36m0:00:00\u001b[0m\n",
            "\u001b[?25hRequirement already satisfied: lxml in /usr/local/lib/python3.8/dist-packages (from snscrape) (4.9.2)\n",
            "Requirement already satisfied: requests[socks] in /usr/local/lib/python3.8/dist-packages (from snscrape) (2.25.1)\n",
            "Requirement already satisfied: beautifulsoup4 in /usr/local/lib/python3.8/dist-packages (from snscrape) (4.6.3)\n",
            "Requirement already satisfied: filelock in /usr/local/lib/python3.8/dist-packages (from snscrape) (3.9.0)\n",
            "Requirement already satisfied: pytz in /usr/local/lib/python3.8/dist-packages (from snscrape) (2022.7.1)\n",
            "Requirement already satisfied: chardet<5,>=3.0.2 in /usr/local/lib/python3.8/dist-packages (from requests[socks]->snscrape) (4.0.0)\n",
            "Requirement already satisfied: urllib3<1.27,>=1.21.1 in /usr/local/lib/python3.8/dist-packages (from requests[socks]->snscrape) (1.24.3)\n",
            "Requirement already satisfied: idna<3,>=2.5 in /usr/local/lib/python3.8/dist-packages (from requests[socks]->snscrape) (2.10)\n",
            "Requirement already satisfied: certifi>=2017.4.17 in /usr/local/lib/python3.8/dist-packages (from requests[socks]->snscrape) (2022.12.7)\n",
            "Requirement already satisfied: PySocks!=1.5.7,>=1.5.6 in /usr/local/lib/python3.8/dist-packages (from requests[socks]->snscrape) (1.7.1)\n",
            "Installing collected packages: snscrape\n",
            "Successfully installed snscrape-0.5.0.20230113\n"
          ]
        }
      ],
      "source": [
        "!pip install snscrape"
      ]
    },
    {
      "cell_type": "code",
      "source": [
        "# z -test and t-test\n",
        "from statsmodels.stats.weightstats import ztest as ztest\n",
        "import scipy.stats as stats\n",
        "\n",
        "\n",
        "#enter IQ levels for 20 patients\n",
        "data = [88, 92, 94, 94, 96, 97, 97, 97, 99, 99,105, 109, 109, 109, 110, 112, 112, 113, 114, 115]\n",
        "\n",
        "\n",
        "#perform one sample z-test\n",
        "#print(ztest(data, value=105))\n",
        "print(stats.ttest_1samp(data, popmean=100))\n",
        "#value is nothing but H0 or Null hypothesis(here we say that avg is 100)\n"
      ],
      "metadata": {
        "id": "0MMauK_p5vpt",
        "colab": {
          "base_uri": "https://localhost:8080/"
        },
        "outputId": "459f3783-28e7-4397-9d4d-13b651b6270a"
      },
      "execution_count": null,
      "outputs": [
        {
          "output_type": "stream",
          "name": "stdout",
          "text": [
            "Ttest_1sampResult(statistic=1.5976240527147705, pvalue=0.12662462536124378)\n"
          ]
        }
      ]
    },
    {
      "cell_type": "code",
      "source": [
        "# z-test in terms of independence\n",
        "from statsmodels.stats.weightstats import ztest as ztest\n",
        "\n",
        "#enter IQ levels for 20 individuals from each city\n",
        "cityA = [82, 84, 85, 89, 91, 91, 92, 94, 99, 99,\n",
        "        105, 109, 109, 109, 110, 112, 112, 113, 114, 114]\n",
        "\n",
        "\n",
        "cityB = [90, 91, 91, 91, 95, 95, 99, 99, 108, 109,\n",
        "        109, 114, 115, 116, 117, 117, 128, 129, 130, 133]\n",
        "\n",
        "\n",
        "#perform two sample z-test\n",
        "ztest(cityA, cityB, value=0)\n",
        "\n",
        "\n",
        "\n",
        "\n",
        "#here value of H0 is 0 because null hypothesis is that there is no difference in IQ of two cities\n"
      ],
      "metadata": {
        "id": "Fuo3zitr5vv9",
        "colab": {
          "base_uri": "https://localhost:8080/"
        },
        "outputId": "8df649f8-42b1-40fd-b971-66163df37b30"
      },
      "execution_count": null,
      "outputs": [
        {
          "output_type": "execute_result",
          "data": {
            "text/plain": [
              "(-1.9953236073282115, 0.046007596761332065)"
            ]
          },
          "metadata": {},
          "execution_count": 3
        }
      ]
    },
    {
      "cell_type": "code",
      "source": [
        "#t-test in terms of independence\n",
        "stats.ttest_ind(a=cityA, b=cityB, equal_var=True)"
      ],
      "metadata": {
        "id": "B858Cexw5vzc",
        "colab": {
          "base_uri": "https://localhost:8080/"
        },
        "outputId": "7d94d281-d987-4f0b-878a-e0a18a46c8b2"
      },
      "execution_count": null,
      "outputs": [
        {
          "output_type": "execute_result",
          "data": {
            "text/plain": [
              "Ttest_indResult(statistic=-1.9953236073282115, pvalue=0.05321388037191098)"
            ]
          },
          "metadata": {},
          "execution_count": 4
        }
      ]
    },
    {
      "cell_type": "code",
      "source": [
        "#t-test based on relation\n",
        "pre = [88, 82, 84, 93, 75, 78, 84, 87, 95, 91, 83, 89, 77, 68, 91]\n",
        "post = [91, 84, 88, 90, 79, 80, 88, 90, 90, 96, 88, 89, 81, 74, 92]\n",
        "\n",
        "\n",
        "#bttest_rel(a, b)\n",
        "\n",
        "\n",
        "#where:\n",
        "\n",
        "\n",
        "#a: an array of sample observations from group 1\n",
        "#b: an array of sample observations from group 2\n",
        "import scipy.stats as stats\n",
        "\n",
        "\n",
        "#perform the paired samples t-test\n",
        "stats.ttest_rel(pre, post)\n"
      ],
      "metadata": {
        "colab": {
          "base_uri": "https://localhost:8080/"
        },
        "id": "UOj9NhOgO6MI",
        "outputId": "81e2c079-475d-411b-e3bf-05d5a25016a6"
      },
      "execution_count": null,
      "outputs": [
        {
          "output_type": "execute_result",
          "data": {
            "text/plain": [
              "Ttest_relResult(statistic=-2.9732484231168796, pvalue=0.01007144862643272)"
            ]
          },
          "metadata": {},
          "execution_count": 5
        }
      ]
    },
    {
      "cell_type": "code",
      "source": [
        "import pandas as pd\n",
        "df=pd.read_csv('https://raw.githubusercontent.com/nethajinirmal13/Training-datasets/main/cs1%20(1).csv')\n",
        "df.shape\n",
        "df\n"
      ],
      "metadata": {
        "colab": {
          "base_uri": "https://localhost:8080/",
          "height": 487
        },
        "id": "WNgwRAagO6Od",
        "outputId": "55fb4f39-c61a-48e2-b658-f1276f020cbc"
      },
      "execution_count": null,
      "outputs": [
        {
          "output_type": "execute_result",
          "data": {
            "text/plain": [
              "          id  age  gender      region    income married  children  car  \\\n",
              "0    ID12101   48  FEMALE  INNER_CITY  17546.00      NO         1   NO   \n",
              "1    ID12102   40    MALE        TOWN  30085.10     YES         3  YES   \n",
              "2    ID12103   51  FEMALE  INNER_CITY  16575.40     YES         0  YES   \n",
              "3    ID12104   23  FEMALE        TOWN  20375.40     YES         3   NO   \n",
              "4    ID12105   57  FEMALE       RURAL  50576.30     YES         0   NO   \n",
              "..       ...  ...     ...         ...       ...     ...       ...  ...   \n",
              "325  ID12426   24  FEMALE        TOWN   9465.21      NO         0   NO   \n",
              "326  ID12427   39    MALE  INNER_CITY  34852.30     YES         1   NO   \n",
              "327  ID12428   24    MALE  INNER_CITY  21268.40     YES         0   NO   \n",
              "328  ID12429   57  FEMALE       RURAL  50849.20      NO         1   NO   \n",
              "329  ID12430   27  FEMALE        TOWN  18555.90     YES         3   NO   \n",
              "\n",
              "    save_act current_act mortgage   pl  \n",
              "0         NO          NO       NO  YES  \n",
              "1         NO         YES      YES   NO  \n",
              "2        YES         YES       NO   NO  \n",
              "3         NO         YES       NO   NO  \n",
              "4        YES          NO       NO   NO  \n",
              "..       ...         ...      ...  ...  \n",
              "325       NO         YES       NO  YES  \n",
              "326      YES          NO      YES  YES  \n",
              "327       NO         YES      YES  YES  \n",
              "328      YES          NO      YES  YES  \n",
              "329       NO         YES       NO   NO  \n",
              "\n",
              "[330 rows x 12 columns]"
            ],
            "text/html": [
              "\n",
              "  <div id=\"df-ba25a3f7-e7ff-4613-a706-c0fe2e271b4b\">\n",
              "    <div class=\"colab-df-container\">\n",
              "      <div>\n",
              "<style scoped>\n",
              "    .dataframe tbody tr th:only-of-type {\n",
              "        vertical-align: middle;\n",
              "    }\n",
              "\n",
              "    .dataframe tbody tr th {\n",
              "        vertical-align: top;\n",
              "    }\n",
              "\n",
              "    .dataframe thead th {\n",
              "        text-align: right;\n",
              "    }\n",
              "</style>\n",
              "<table border=\"1\" class=\"dataframe\">\n",
              "  <thead>\n",
              "    <tr style=\"text-align: right;\">\n",
              "      <th></th>\n",
              "      <th>id</th>\n",
              "      <th>age</th>\n",
              "      <th>gender</th>\n",
              "      <th>region</th>\n",
              "      <th>income</th>\n",
              "      <th>married</th>\n",
              "      <th>children</th>\n",
              "      <th>car</th>\n",
              "      <th>save_act</th>\n",
              "      <th>current_act</th>\n",
              "      <th>mortgage</th>\n",
              "      <th>pl</th>\n",
              "    </tr>\n",
              "  </thead>\n",
              "  <tbody>\n",
              "    <tr>\n",
              "      <th>0</th>\n",
              "      <td>ID12101</td>\n",
              "      <td>48</td>\n",
              "      <td>FEMALE</td>\n",
              "      <td>INNER_CITY</td>\n",
              "      <td>17546.00</td>\n",
              "      <td>NO</td>\n",
              "      <td>1</td>\n",
              "      <td>NO</td>\n",
              "      <td>NO</td>\n",
              "      <td>NO</td>\n",
              "      <td>NO</td>\n",
              "      <td>YES</td>\n",
              "    </tr>\n",
              "    <tr>\n",
              "      <th>1</th>\n",
              "      <td>ID12102</td>\n",
              "      <td>40</td>\n",
              "      <td>MALE</td>\n",
              "      <td>TOWN</td>\n",
              "      <td>30085.10</td>\n",
              "      <td>YES</td>\n",
              "      <td>3</td>\n",
              "      <td>YES</td>\n",
              "      <td>NO</td>\n",
              "      <td>YES</td>\n",
              "      <td>YES</td>\n",
              "      <td>NO</td>\n",
              "    </tr>\n",
              "    <tr>\n",
              "      <th>2</th>\n",
              "      <td>ID12103</td>\n",
              "      <td>51</td>\n",
              "      <td>FEMALE</td>\n",
              "      <td>INNER_CITY</td>\n",
              "      <td>16575.40</td>\n",
              "      <td>YES</td>\n",
              "      <td>0</td>\n",
              "      <td>YES</td>\n",
              "      <td>YES</td>\n",
              "      <td>YES</td>\n",
              "      <td>NO</td>\n",
              "      <td>NO</td>\n",
              "    </tr>\n",
              "    <tr>\n",
              "      <th>3</th>\n",
              "      <td>ID12104</td>\n",
              "      <td>23</td>\n",
              "      <td>FEMALE</td>\n",
              "      <td>TOWN</td>\n",
              "      <td>20375.40</td>\n",
              "      <td>YES</td>\n",
              "      <td>3</td>\n",
              "      <td>NO</td>\n",
              "      <td>NO</td>\n",
              "      <td>YES</td>\n",
              "      <td>NO</td>\n",
              "      <td>NO</td>\n",
              "    </tr>\n",
              "    <tr>\n",
              "      <th>4</th>\n",
              "      <td>ID12105</td>\n",
              "      <td>57</td>\n",
              "      <td>FEMALE</td>\n",
              "      <td>RURAL</td>\n",
              "      <td>50576.30</td>\n",
              "      <td>YES</td>\n",
              "      <td>0</td>\n",
              "      <td>NO</td>\n",
              "      <td>YES</td>\n",
              "      <td>NO</td>\n",
              "      <td>NO</td>\n",
              "      <td>NO</td>\n",
              "    </tr>\n",
              "    <tr>\n",
              "      <th>...</th>\n",
              "      <td>...</td>\n",
              "      <td>...</td>\n",
              "      <td>...</td>\n",
              "      <td>...</td>\n",
              "      <td>...</td>\n",
              "      <td>...</td>\n",
              "      <td>...</td>\n",
              "      <td>...</td>\n",
              "      <td>...</td>\n",
              "      <td>...</td>\n",
              "      <td>...</td>\n",
              "      <td>...</td>\n",
              "    </tr>\n",
              "    <tr>\n",
              "      <th>325</th>\n",
              "      <td>ID12426</td>\n",
              "      <td>24</td>\n",
              "      <td>FEMALE</td>\n",
              "      <td>TOWN</td>\n",
              "      <td>9465.21</td>\n",
              "      <td>NO</td>\n",
              "      <td>0</td>\n",
              "      <td>NO</td>\n",
              "      <td>NO</td>\n",
              "      <td>YES</td>\n",
              "      <td>NO</td>\n",
              "      <td>YES</td>\n",
              "    </tr>\n",
              "    <tr>\n",
              "      <th>326</th>\n",
              "      <td>ID12427</td>\n",
              "      <td>39</td>\n",
              "      <td>MALE</td>\n",
              "      <td>INNER_CITY</td>\n",
              "      <td>34852.30</td>\n",
              "      <td>YES</td>\n",
              "      <td>1</td>\n",
              "      <td>NO</td>\n",
              "      <td>YES</td>\n",
              "      <td>NO</td>\n",
              "      <td>YES</td>\n",
              "      <td>YES</td>\n",
              "    </tr>\n",
              "    <tr>\n",
              "      <th>327</th>\n",
              "      <td>ID12428</td>\n",
              "      <td>24</td>\n",
              "      <td>MALE</td>\n",
              "      <td>INNER_CITY</td>\n",
              "      <td>21268.40</td>\n",
              "      <td>YES</td>\n",
              "      <td>0</td>\n",
              "      <td>NO</td>\n",
              "      <td>NO</td>\n",
              "      <td>YES</td>\n",
              "      <td>YES</td>\n",
              "      <td>YES</td>\n",
              "    </tr>\n",
              "    <tr>\n",
              "      <th>328</th>\n",
              "      <td>ID12429</td>\n",
              "      <td>57</td>\n",
              "      <td>FEMALE</td>\n",
              "      <td>RURAL</td>\n",
              "      <td>50849.20</td>\n",
              "      <td>NO</td>\n",
              "      <td>1</td>\n",
              "      <td>NO</td>\n",
              "      <td>YES</td>\n",
              "      <td>NO</td>\n",
              "      <td>YES</td>\n",
              "      <td>YES</td>\n",
              "    </tr>\n",
              "    <tr>\n",
              "      <th>329</th>\n",
              "      <td>ID12430</td>\n",
              "      <td>27</td>\n",
              "      <td>FEMALE</td>\n",
              "      <td>TOWN</td>\n",
              "      <td>18555.90</td>\n",
              "      <td>YES</td>\n",
              "      <td>3</td>\n",
              "      <td>NO</td>\n",
              "      <td>NO</td>\n",
              "      <td>YES</td>\n",
              "      <td>NO</td>\n",
              "      <td>NO</td>\n",
              "    </tr>\n",
              "  </tbody>\n",
              "</table>\n",
              "<p>330 rows × 12 columns</p>\n",
              "</div>\n",
              "      <button class=\"colab-df-convert\" onclick=\"convertToInteractive('df-ba25a3f7-e7ff-4613-a706-c0fe2e271b4b')\"\n",
              "              title=\"Convert this dataframe to an interactive table.\"\n",
              "              style=\"display:none;\">\n",
              "        \n",
              "  <svg xmlns=\"http://www.w3.org/2000/svg\" height=\"24px\"viewBox=\"0 0 24 24\"\n",
              "       width=\"24px\">\n",
              "    <path d=\"M0 0h24v24H0V0z\" fill=\"none\"/>\n",
              "    <path d=\"M18.56 5.44l.94 2.06.94-2.06 2.06-.94-2.06-.94-.94-2.06-.94 2.06-2.06.94zm-11 1L8.5 8.5l.94-2.06 2.06-.94-2.06-.94L8.5 2.5l-.94 2.06-2.06.94zm10 10l.94 2.06.94-2.06 2.06-.94-2.06-.94-.94-2.06-.94 2.06-2.06.94z\"/><path d=\"M17.41 7.96l-1.37-1.37c-.4-.4-.92-.59-1.43-.59-.52 0-1.04.2-1.43.59L10.3 9.45l-7.72 7.72c-.78.78-.78 2.05 0 2.83L4 21.41c.39.39.9.59 1.41.59.51 0 1.02-.2 1.41-.59l7.78-7.78 2.81-2.81c.8-.78.8-2.07 0-2.86zM5.41 20L4 18.59l7.72-7.72 1.47 1.35L5.41 20z\"/>\n",
              "  </svg>\n",
              "      </button>\n",
              "      \n",
              "  <style>\n",
              "    .colab-df-container {\n",
              "      display:flex;\n",
              "      flex-wrap:wrap;\n",
              "      gap: 12px;\n",
              "    }\n",
              "\n",
              "    .colab-df-convert {\n",
              "      background-color: #E8F0FE;\n",
              "      border: none;\n",
              "      border-radius: 50%;\n",
              "      cursor: pointer;\n",
              "      display: none;\n",
              "      fill: #1967D2;\n",
              "      height: 32px;\n",
              "      padding: 0 0 0 0;\n",
              "      width: 32px;\n",
              "    }\n",
              "\n",
              "    .colab-df-convert:hover {\n",
              "      background-color: #E2EBFA;\n",
              "      box-shadow: 0px 1px 2px rgba(60, 64, 67, 0.3), 0px 1px 3px 1px rgba(60, 64, 67, 0.15);\n",
              "      fill: #174EA6;\n",
              "    }\n",
              "\n",
              "    [theme=dark] .colab-df-convert {\n",
              "      background-color: #3B4455;\n",
              "      fill: #D2E3FC;\n",
              "    }\n",
              "\n",
              "    [theme=dark] .colab-df-convert:hover {\n",
              "      background-color: #434B5C;\n",
              "      box-shadow: 0px 1px 3px 1px rgba(0, 0, 0, 0.15);\n",
              "      filter: drop-shadow(0px 1px 2px rgba(0, 0, 0, 0.3));\n",
              "      fill: #FFFFFF;\n",
              "    }\n",
              "  </style>\n",
              "\n",
              "      <script>\n",
              "        const buttonEl =\n",
              "          document.querySelector('#df-ba25a3f7-e7ff-4613-a706-c0fe2e271b4b button.colab-df-convert');\n",
              "        buttonEl.style.display =\n",
              "          google.colab.kernel.accessAllowed ? 'block' : 'none';\n",
              "\n",
              "        async function convertToInteractive(key) {\n",
              "          const element = document.querySelector('#df-ba25a3f7-e7ff-4613-a706-c0fe2e271b4b');\n",
              "          const dataTable =\n",
              "            await google.colab.kernel.invokeFunction('convertToInteractive',\n",
              "                                                     [key], {});\n",
              "          if (!dataTable) return;\n",
              "\n",
              "          const docLinkHtml = 'Like what you see? Visit the ' +\n",
              "            '<a target=\"_blank\" href=https://colab.research.google.com/notebooks/data_table.ipynb>data table notebook</a>'\n",
              "            + ' to learn more about interactive tables.';\n",
              "          element.innerHTML = '';\n",
              "          dataTable['output_type'] = 'display_data';\n",
              "          await google.colab.output.renderOutput(dataTable, element);\n",
              "          const docLink = document.createElement('div');\n",
              "          docLink.innerHTML = docLinkHtml;\n",
              "          element.appendChild(docLink);\n",
              "        }\n",
              "      </script>\n",
              "    </div>\n",
              "  </div>\n",
              "  "
            ]
          },
          "metadata": {},
          "execution_count": 6
        }
      ]
    },
    {
      "cell_type": "code",
      "source": [
        "print(df.groupby('region').agg({'income':'mean'}))"
      ],
      "metadata": {
        "colab": {
          "base_uri": "https://localhost:8080/"
        },
        "id": "gEZ4BfwTO6SH",
        "outputId": "4878f53b-0436-4552-cd37-405821d7e91c"
      },
      "execution_count": null,
      "outputs": [
        {
          "output_type": "stream",
          "name": "stdout",
          "text": [
            "                  income\n",
            "region                  \n",
            "INNER_CITY  26439.952645\n",
            "RURAL       29912.181296\n",
            "SUBURBAN    29462.098000\n",
            "TOWN        26495.416146\n"
          ]
        }
      ]
    },
    {
      "cell_type": "code",
      "source": [
        "#gender partiality on basis of income\n",
        "#age partiality on basis of income\n",
        "#Stating of Hypothesis :\n",
        "#H0 : mu_male = mu_female\n",
        "#H1 : mu_male != mu_female\n",
        "male = df[df['gender'] == 'MALE']['income']\n",
        "female = df[df['gender'] == 'FEMALE']['income']\n",
        "import scipy.stats as st\n",
        "#st.ttest_ind(male,female,equal_var=True)\n",
        "st.ttest_ind(df[\"income\"],df[\"age\"],equal_var=True)\n"
      ],
      "metadata": {
        "colab": {
          "base_uri": "https://localhost:8080/"
        },
        "id": "GbuAaAdySgMW",
        "outputId": "e6d7733b-9dec-4130-bb9d-22a21a85a26b"
      },
      "execution_count": null,
      "outputs": [
        {
          "output_type": "execute_result",
          "data": {
            "text/plain": [
              "Ttest_indResult(statistic=37.83413254443953, pvalue=3.035491870002726e-167)"
            ]
          },
          "metadata": {},
          "execution_count": 8
        }
      ]
    },
    {
      "cell_type": "code",
      "source": [
        "#box plot chart\n",
        "df.boxplot(by ='age', column =['income'], grid = True)"
      ],
      "metadata": {
        "colab": {
          "base_uri": "https://localhost:8080/",
          "height": 373
        },
        "id": "dReAGK1DSgOR",
        "outputId": "8b6f601e-1772-4c56-bc73-ec9c7bb8fd29"
      },
      "execution_count": null,
      "outputs": [
        {
          "output_type": "stream",
          "name": "stderr",
          "text": [
            "/usr/local/lib/python3.8/dist-packages/matplotlib/cbook/__init__.py:1376: VisibleDeprecationWarning: Creating an ndarray from ragged nested sequences (which is a list-or-tuple of lists-or-tuples-or ndarrays with different lengths or shapes) is deprecated. If you meant to do this, you must specify 'dtype=object' when creating the ndarray.\n",
            "  X = np.atleast_1d(X.T if isinstance(X, np.ndarray) else np.asarray(X))\n"
          ]
        },
        {
          "output_type": "execute_result",
          "data": {
            "text/plain": [
              "<matplotlib.axes._subplots.AxesSubplot at 0x7fce3a8d3580>"
            ]
          },
          "metadata": {},
          "execution_count": 9
        },
        {
          "output_type": "display_data",
          "data": {
            "text/plain": [
              "<Figure size 432x288 with 1 Axes>"
            ],
            "image/png": "[encoded data removed]"
          },
          "metadata": {
            "needs_background": "light"
          }
        }
      ]
    },
    {
      "cell_type": "code",
      "source": [
        "#hypothesis on no.of.children and income\n",
        "print(df.children.unique())\n",
        "c0 = df[df['children'] == 0]['income']        # c0 = 0 children\n",
        "c1 = df[df['children'] == 1]['income']\n",
        "c2 = df[df['children'] == 2]['income']\n",
        "c3 = df[df['children'] == 3]['income']\n",
        "import seaborn as sns\n",
        "import matplotlib.pyplot as plt\n",
        "sns.boxplot(x='children',y=\"income\",data=df)\n",
        "plt.show()\n",
        "st.f_oneway(c0,c1,c2,c3)\n",
        "\n",
        "\n"
      ],
      "metadata": {
        "colab": {
          "base_uri": "https://localhost:8080/",
          "height": 314
        },
        "id": "E-xrK--bSgR8",
        "outputId": "6a5dc76e-1126-4e2b-aa32-f463bb89c95e"
      },
      "execution_count": null,
      "outputs": [
        {
          "output_type": "stream",
          "name": "stdout",
          "text": [
            "[1 3 0 2]\n"
          ]
        },
        {
          "output_type": "display_data",
          "data": {
            "text/plain": [
              "<Figure size 432x288 with 1 Axes>"
            ],
            "image/png": "[encoded data removed]"
          },
          "metadata": {
            "needs_background": "light"
          }
        },
        {
          "output_type": "execute_result",
          "data": {
            "text/plain": [
              "F_onewayResult(statistic=0.5667851690722862, pvalue=0.6372599526845)"
            ]
          },
          "metadata": {},
          "execution_count": 10
        }
      ]
    },
    {
      "cell_type": "code",
      "source": [
        "#hypothesis b/w no.of children and age\n",
        "print(df.children.unique())\n",
        "c0 = df[df['children'] == 0]['age']        # c0 = 0 children\n",
        "c1 = df[df['children'] == 1]['age']\n",
        "c2 = df[df['children'] == 2]['age']\n",
        "c3 = df[df['children'] == 3]['age']\n",
        "import seaborn as sns\n",
        "import matplotlib.pyplot as plt\n",
        "sns.boxplot(x='children',y=\"age\",data=df)\n",
        "plt.show()\n",
        "st.f_oneway(c0,c1,c2,c3)\n",
        "\n",
        "\n"
      ],
      "metadata": {
        "colab": {
          "base_uri": "https://localhost:8080/",
          "height": 314
        },
        "id": "fNOqJGkGYdJ4",
        "outputId": "e9bdaef8-a8c4-44de-9c14-ca3722e6d6aa"
      },
      "execution_count": null,
      "outputs": [
        {
          "output_type": "stream",
          "name": "stdout",
          "text": [
            "[1 3 0 2]\n"
          ]
        },
        {
          "output_type": "display_data",
          "data": {
            "text/plain": [
              "<Figure size 432x288 with 1 Axes>"
            ],
            "image/png": "[encoded data removed]"
          },
          "metadata": {
            "needs_background": "light"
          }
        },
        {
          "output_type": "execute_result",
          "data": {
            "text/plain": [
              "F_onewayResult(statistic=0.40864721912518615, pvalue=0.746891231444784)"
            ]
          },
          "metadata": {},
          "execution_count": 11
        }
      ]
    },
    {
      "cell_type": "code",
      "source": [
        "#income relationship with respect to geographical location\n",
        "print(df.children.unique())\n",
        "c0 = df[df['region'] == \"INNER_CITY\"]['income']        # c0 = 0 children\n",
        "c1 = df[df['region'] == \"RURAL\"]['income']\n",
        "c2 = df[df['region'] == \"TOWN\"]['income']\n",
        "c3 = df[df['region'] == \"SUBURBAN\"]['income']\n",
        "import seaborn as sns\n",
        "import matplotlib.pyplot as plt\n",
        "sns.boxplot(x='region',y=\"income\",data=df)\n",
        "plt.show()\n",
        "st.f_oneway(c0,c1,c2,c3)\n",
        "\n",
        "\n"
      ],
      "metadata": {
        "colab": {
          "base_uri": "https://localhost:8080/",
          "height": 315
        },
        "id": "tJurISodYdMM",
        "outputId": "7ab1628b-9841-4fb9-fe8a-f2f888377e4c"
      },
      "execution_count": null,
      "outputs": [
        {
          "output_type": "stream",
          "name": "stdout",
          "text": [
            "[1 3 0 2]\n"
          ]
        },
        {
          "output_type": "display_data",
          "data": {
            "text/plain": [
              "<Figure size 432x288 with 1 Axes>"
            ],
            "image/png": "[encoded data removed]"
          },
          "metadata": {
            "needs_background": "light"
          }
        },
        {
          "output_type": "execute_result",
          "data": {
            "text/plain": [
              "F_onewayResult(statistic=1.295017306483267, pvalue=0.27607567314467585)"
            ]
          },
          "metadata": {},
          "execution_count": 12
        }
      ]
    },
    {
      "cell_type": "code",
      "source": [
        "#contingency table for categorical data\n",
        "import scipy.stats as st\n",
        "tab = pd.crosstab(df['region'],df['car'])\n",
        "tab1 = tab.T\n",
        "tab1\n",
        "st.chi2_contingency(tab1)\n",
        "\n",
        "\n"
      ],
      "metadata": {
        "colab": {
          "base_uri": "https://localhost:8080/"
        },
        "id": "SqGmsiM-YdP0",
        "outputId": "870ee83a-4003-4d85-dc6a-dc6aefb93c4e"
      },
      "execution_count": null,
      "outputs": [
        {
          "output_type": "execute_result",
          "data": {
            "text/plain": [
              "(0.7113615872653685,\n",
              " 0.8705283912361313,\n",
              " 3,\n",
              " array([[81.72727273, 28.47272727, 13.18181818, 50.61818182],\n",
              "        [73.27272727, 25.52727273, 11.81818182, 45.38181818]]))"
            ]
          },
          "metadata": {},
          "execution_count": 13
        }
      ]
    },
    {
      "cell_type": "code",
      "source": [
        "tab.T"
      ],
      "metadata": {
        "colab": {
          "base_uri": "https://localhost:8080/",
          "height": 143
        },
        "id": "i7ox4QyvZoxo",
        "outputId": "3301fa9c-070d-4f10-fa12-8ab999ec018e"
      },
      "execution_count": null,
      "outputs": [
        {
          "output_type": "execute_result",
          "data": {
            "text/plain": [
              "region  INNER_CITY  RURAL  SUBURBAN  TOWN\n",
              "car                                      \n",
              "NO              84     26        14    50\n",
              "YES             71     28        11    46"
            ],
            "text/html": [
              "\n",
              "  <div id=\"df-4f070a17-961c-4b25-9c76-77c556abbfaf\">\n",
              "    <div class=\"colab-df-container\">\n",
              "      <div>\n",
              "<style scoped>\n",
              "    .dataframe tbody tr th:only-of-type {\n",
              "        vertical-align: middle;\n",
              "    }\n",
              "\n",
              "    .dataframe tbody tr th {\n",
              "        vertical-align: top;\n",
              "    }\n",
              "\n",
              "    .dataframe thead th {\n",
              "        text-align: right;\n",
              "    }\n",
              "</style>\n",
              "<table border=\"1\" class=\"dataframe\">\n",
              "  <thead>\n",
              "    <tr style=\"text-align: right;\">\n",
              "      <th>region</th>\n",
              "      <th>INNER_CITY</th>\n",
              "      <th>RURAL</th>\n",
              "      <th>SUBURBAN</th>\n",
              "      <th>TOWN</th>\n",
              "    </tr>\n",
              "    <tr>\n",
              "      <th>car</th>\n",
              "      <th></th>\n",
              "      <th></th>\n",
              "      <th></th>\n",
              "      <th></th>\n",
              "    </tr>\n",
              "  </thead>\n",
              "  <tbody>\n",
              "    <tr>\n",
              "      <th>NO</th>\n",
              "      <td>84</td>\n",
              "      <td>26</td>\n",
              "      <td>14</td>\n",
              "      <td>50</td>\n",
              "    </tr>\n",
              "    <tr>\n",
              "      <th>YES</th>\n",
              "      <td>71</td>\n",
              "      <td>28</td>\n",
              "      <td>11</td>\n",
              "      <td>46</td>\n",
              "    </tr>\n",
              "  </tbody>\n",
              "</table>\n",
              "</div>\n",
              "      <button class=\"colab-df-convert\" onclick=\"convertToInteractive('df-4f070a17-961c-4b25-9c76-77c556abbfaf')\"\n",
              "              title=\"Convert this dataframe to an interactive table.\"\n",
              "              style=\"display:none;\">\n",
              "        \n",
              "  <svg xmlns=\"http://www.w3.org/2000/svg\" height=\"24px\"viewBox=\"0 0 24 24\"\n",
              "       width=\"24px\">\n",
              "    <path d=\"M0 0h24v24H0V0z\" fill=\"none\"/>\n",
              "    <path d=\"M18.56 5.44l.94 2.06.94-2.06 2.06-.94-2.06-.94-.94-2.06-.94 2.06-2.06.94zm-11 1L8.5 8.5l.94-2.06 2.06-.94-2.06-.94L8.5 2.5l-.94 2.06-2.06.94zm10 10l.94 2.06.94-2.06 2.06-.94-2.06-.94-.94-2.06-.94 2.06-2.06.94z\"/><path d=\"M17.41 7.96l-1.37-1.37c-.4-.4-.92-.59-1.43-.59-.52 0-1.04.2-1.43.59L10.3 9.45l-7.72 7.72c-.78.78-.78 2.05 0 2.83L4 21.41c.39.39.9.59 1.41.59.51 0 1.02-.2 1.41-.59l7.78-7.78 2.81-2.81c.8-.78.8-2.07 0-2.86zM5.41 20L4 18.59l7.72-7.72 1.47 1.35L5.41 20z\"/>\n",
              "  </svg>\n",
              "      </button>\n",
              "      \n",
              "  <style>\n",
              "    .colab-df-container {\n",
              "      display:flex;\n",
              "      flex-wrap:wrap;\n",
              "      gap: 12px;\n",
              "    }\n",
              "\n",
              "    .colab-df-convert {\n",
              "      background-color: #E8F0FE;\n",
              "      border: none;\n",
              "      border-radius: 50%;\n",
              "      cursor: pointer;\n",
              "      display: none;\n",
              "      fill: #1967D2;\n",
              "      height: 32px;\n",
              "      padding: 0 0 0 0;\n",
              "      width: 32px;\n",
              "    }\n",
              "\n",
              "    .colab-df-convert:hover {\n",
              "      background-color: #E2EBFA;\n",
              "      box-shadow: 0px 1px 2px rgba(60, 64, 67, 0.3), 0px 1px 3px 1px rgba(60, 64, 67, 0.15);\n",
              "      fill: #174EA6;\n",
              "    }\n",
              "\n",
              "    [theme=dark] .colab-df-convert {\n",
              "      background-color: #3B4455;\n",
              "      fill: #D2E3FC;\n",
              "    }\n",
              "\n",
              "    [theme=dark] .colab-df-convert:hover {\n",
              "      background-color: #434B5C;\n",
              "      box-shadow: 0px 1px 3px 1px rgba(0, 0, 0, 0.15);\n",
              "      filter: drop-shadow(0px 1px 2px rgba(0, 0, 0, 0.3));\n",
              "      fill: #FFFFFF;\n",
              "    }\n",
              "  </style>\n",
              "\n",
              "      <script>\n",
              "        const buttonEl =\n",
              "          document.querySelector('#df-4f070a17-961c-4b25-9c76-77c556abbfaf button.colab-df-convert');\n",
              "        buttonEl.style.display =\n",
              "          google.colab.kernel.accessAllowed ? 'block' : 'none';\n",
              "\n",
              "        async function convertToInteractive(key) {\n",
              "          const element = document.querySelector('#df-4f070a17-961c-4b25-9c76-77c556abbfaf');\n",
              "          const dataTable =\n",
              "            await google.colab.kernel.invokeFunction('convertToInteractive',\n",
              "                                                     [key], {});\n",
              "          if (!dataTable) return;\n",
              "\n",
              "          const docLinkHtml = 'Like what you see? Visit the ' +\n",
              "            '<a target=\"_blank\" href=https://colab.research.google.com/notebooks/data_table.ipynb>data table notebook</a>'\n",
              "            + ' to learn more about interactive tables.';\n",
              "          element.innerHTML = '';\n",
              "          dataTable['output_type'] = 'display_data';\n",
              "          await google.colab.output.renderOutput(dataTable, element);\n",
              "          const docLink = document.createElement('div');\n",
              "          docLink.innerHTML = docLinkHtml;\n",
              "          element.appendChild(docLink);\n",
              "        }\n",
              "      </script>\n",
              "    </div>\n",
              "  </div>\n",
              "  "
            ]
          },
          "metadata": {},
          "execution_count": 15
        }
      ]
    },
    {
      "cell_type": "code",
      "source": [
        "#matplotlib"
      ],
      "metadata": {
        "id": "syEWKJW0Zo0H"
      },
      "execution_count": null,
      "outputs": []
    },
    {
      "cell_type": "code",
      "source": [
        "#just to start with\n",
        "import matplotlib.pyplot as plt\n",
        "plt.plot([1, 2, 6, 4])\n",
        "plt.ylabel('guvi')\n",
        "plt.show()\n"
      ],
      "metadata": {
        "id": "EsAzq6_mZo3l",
        "colab": {
          "base_uri": "https://localhost:8080/",
          "height": 265
        },
        "outputId": "22f18cb4-65e5-42bf-f6cf-b130b3b3e0a1"
      },
      "execution_count": 1,
      "outputs": [
        {
          "output_type": "display_data",
          "data": {
            "text/plain": [
              "<Figure size 432x288 with 1 Axes>"
            ],
            "image/png": "[encoded data removed]"
          },
          "metadata": {
            "needs_background": "light"
          }
        }
      ]
    },
    {
      "cell_type": "code",
      "source": [],
      "metadata": {
        "id": "RvuAf9mHb8m-"
      },
      "execution_count": null,
      "outputs": []
    },
    {
      "cell_type": "code",
      "source": [],
      "metadata": {
        "id": "_9hdzdETb8pI"
      },
      "execution_count": null,
      "outputs": []
    },
    {
      "cell_type": "code",
      "source": [],
      "metadata": {
        "id": "uZHaCn7Ub8sz"
      },
      "execution_count": null,
      "outputs": []
    },
    {
      "cell_type": "code",
      "source": [
        "import matplotlib.pyplot as plt\n",
        "from mpl_toolkits.mplot3d import Axes3D\n",
        "fig=plt.figure(figsize=(5,5))\n",
        "\n",
        "\n",
        "objects = ('Python', 'C++', 'Java', 'Perl', 'Scala')\n",
        "performance = [10,8,6,4,2]\n",
        "\n",
        "\n",
        "neth= fig.add_subplot(111,projection=\"3d\")\n",
        "#neth.scatter(0.2,0.3,0.4)\n",
        "neth.bar(objects, performance)\n",
        "\n",
        "\n",
        "plt.show()\n",
        "\n"
      ],
      "metadata": {
        "colab": {
          "base_uri": "https://localhost:8080/",
          "height": 303
        },
        "id": "XrRApLNPb3vU",
        "outputId": "2296c55c-cd0b-4ad1-e35f-4131b82070ec"
      },
      "execution_count": 2,
      "outputs": [
        {
          "output_type": "display_data",
          "data": {
            "text/plain": [
              "<Figure size 360x360 with 1 Axes>"
            ],
            "image/png": "[encoded data removed]"
          },
          "metadata": {
            "needs_background": "light"
          }
        }
      ]
    },
    {
      "cell_type": "code",
      "source": [
        "#BAR CHART PLOTTING\n",
        "\n",
        "\n",
        "import matplotlib.pyplot as plt\n",
        "objects = ('Python', 'C++', 'Java', 'Perl', 'Scala')\n",
        "performance = [10,8,6,4,2]\n",
        "plt.figure(facecolor='yellow')\n",
        "\n",
        "\n",
        "neth=plt.axes()\n",
        "neth.set_facecolor(\"#66C328\")\n",
        "\n",
        "\n",
        "plt.bar(objects, performance, align='center', alpha=0.2,color=\"#555\",width=0.8,hatch=\"+\")\n",
        "\n",
        "\n",
        "#plt.barh(performance,width=1)\n",
        "#Matplotlib allows you to regulate the transparency of a graph plot using the alpha attribute. By default, alpha=1\n",
        "plt.ylabel(\"USAGE\")\n",
        "plt.legend(\"python\")\n",
        "plt.title(\"programming language usage\")\n",
        "plt.show()\n"
      ],
      "metadata": {
        "colab": {
          "base_uri": "https://localhost:8080/",
          "height": 281
        },
        "id": "aUO80VS3b3y7",
        "outputId": "bef9e350-c153-4732-8788-2c2bbb6f689b"
      },
      "execution_count": 3,
      "outputs": [
        {
          "output_type": "display_data",
          "data": {
            "text/plain": [
              "<Figure size 432x288 with 1 Axes>"
            ],
            "image/png": "[encoded data removed]"
          },
          "metadata": {}
        }
      ]
    },
    {
      "cell_type": "code",
      "source": [
        "#stacked bar chart\n",
        "from matplotlib import pyplot as plt \n",
        "import numpy as np \n",
        "\n",
        "countries = ['USA', 'India', 'China', 'Russia', 'Germany'] \n",
        "bronzes = np.array([38, 17, 26, 19, 15]) \n",
        "silvers = np.array([37, 23, 18, 18, 10]) \n",
        "golds = np.array([46, 27, 26, 19, 17]) \n",
        "ind = [x for x, _ in enumerate(countries)] \n",
        "\n",
        "plt.bar(ind, golds, width=0.5, label='golds', color='gold', bottom=silvers) \n",
        "plt.bar(ind, silvers, width=0.5, label='silvers', color='silver', bottom=bronzes) \n",
        "plt.bar(ind, bronzes, width=0.5, label='bronzes', color='#CD853F') \n",
        "\n",
        "plt.xticks(ind, countries) \n",
        "plt.ylabel(\"Medals\") \n",
        "plt.xlabel(\"Countries\") \n",
        "plt.legend(loc=\"upper right\") \n",
        "plt.title(\"2019 Olympics Top Scorers\")\n",
        "\n"
      ],
      "metadata": {
        "colab": {
          "base_uri": "https://localhost:8080/",
          "height": 312
        },
        "id": "OMXTrf8Pb34s",
        "outputId": "4b7c58e8-908a-4ddd-933d-2a398ca93b4c"
      },
      "execution_count": 16,
      "outputs": [
        {
          "output_type": "execute_result",
          "data": {
            "text/plain": [
              "Text(0.5, 1.0, '2019 Olympics Top Scorers')"
            ]
          },
          "metadata": {},
          "execution_count": 16
        },
        {
          "output_type": "display_data",
          "data": {
            "text/plain": [
              "<Figure size 432x288 with 1 Axes>"
            ],
            "image/png": "[encoded data removed]"
          },
          "metadata": {
            "needs_background": "light"
          }
        }
      ]
    },
    {
      "cell_type": "code",
      "source": [
        "#PIE CHART PLOTTING\n",
        "\n",
        "\n",
        "import matplotlib.pyplot as plt\n",
        "\n",
        "\n",
        "# Data to plot\n",
        "labels = 'Python', 'C++', 'Ruby', 'Java'\n",
        "sizes = [215, 130, 245, 2000]\n",
        "colors = ['gold', 'yellowgreen', 'lightcoral', 'lightskyblue']\n",
        "neth=plt.axes()\n",
        "neth.set_title(\"lang pie\")\n",
        "# Plot\n",
        "plt.pie(sizes, labels=labels, colors=colors,shadow=True)\n",
        "plt.show()\n",
        "\n",
        "\n"
      ],
      "metadata": {
        "colab": {
          "base_uri": "https://localhost:8080/",
          "height": 264
        },
        "id": "HbdSIyewcefi",
        "outputId": "2e8c4150-d9ea-4172-8f4d-16ef62703cbb"
      },
      "execution_count": 10,
      "outputs": [
        {
          "output_type": "display_data",
          "data": {
            "text/plain": [
              "<Figure size 432x288 with 1 Axes>"
            ],
            "image/png": "[encoded data removed]"
          },
          "metadata": {}
        }
      ]
    },
    {
      "cell_type": "code",
      "source": [],
      "metadata": {
        "id": "wtJ6i2JVcejl"
      },
      "execution_count": null,
      "outputs": []
    },
    {
      "cell_type": "code",
      "source": [],
      "metadata": {
        "id": "cpr5oc2nceo8"
      },
      "execution_count": null,
      "outputs": []
    }
  ]
}